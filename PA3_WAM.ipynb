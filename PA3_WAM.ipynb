{
 "cells": [
  {
   "cell_type": "markdown",
   "id": "fbe783a2-8fdd-4bc0-a930-3f38e8e94071",
   "metadata": {
    "tags": []
   },
   "source": [
    "# Programming Assignment X\n",
    "---\n",
    "**Author:** William Muckler  \n",
    "**Version:** 1.0  \n",
    "**Semester:** Spring 2024 \n",
    "\n",
    "This *notebook* contains my solution(s) to **Programming Assignment 3**"
   ]
  },
  {
   "cell_type": "markdown",
   "id": "2f4b7256-a63d-4176-947e-27084c123da3",
   "metadata": {},
   "source": [
    "### Problem 1- Geometry Calculator"
   ]
  },
  {
   "cell_type": "code",
   "execution_count": 63,
   "id": "b41b864b-f72b-471f-97d5-646266916854",
   "metadata": {
    "tags": []
   },
   "outputs": [],
   "source": [
    "import math\n",
    "import statistics as s"
   ]
  },
  {
   "cell_type": "code",
   "execution_count": 85,
   "id": "66464a4d-fd95-4ca6-8701-1e51efbdddb8",
   "metadata": {
    "tags": []
   },
   "outputs": [],
   "source": [
    "def squaremath(length):\n",
    "    area = length ** 2\n",
    "    perimeter = length * 4\n",
    "    return area,perimeter\n",
    "def trianglemath(base,height):\n",
    "    area= base * height * 1/2\n",
    "    c2 = height **2 + base **2\n",
    "    perimeter=math.sqrt(c2) + base +height\n",
    "    return area, perimeter\n",
    "def circlemath(radius):\n",
    "    area = math.pi*radius**2\n",
    "    perimeter = 2* math.pi* radius\n",
    "    return area, perimeter\n",
    "def rectanglemath(base, height):\n",
    "    area = base * height\n",
    "    perimeter = base*2+height*2\n",
    "    return area, perimeter\n",
    "def ellipsemath(a, b):\n",
    "    area= math.pi * a * b\n",
    "    #perimeter = math.pi(3*(a+b))-math.sqrt((3*a +b)*(a+3*b))\n",
    "    perimeter = ((3*a+b))- math.sqrt((3* a + b)*(3* b+ a))*math.pi\n",
    "    return area, perimeter\n",
    "def trapezoidmath(a,b,height):\n",
    "    area = (a+b)/2*height\n",
    "    c2 = ((b-a)/2)*((b-a)/2) + (height*height)\n",
    "    c=math.sqrt(c2)\n",
    "    perimeter = a + b + c*2\n",
    "    return area, perimeter\n",
    "    \n",
    "    \n",
    "    "
   ]
  },
  {
   "cell_type": "code",
   "execution_count": 87,
   "id": "e7a6e1e7-f4ce-4422-a6a2-868343168374",
   "metadata": {
    "tags": []
   },
   "outputs": [
    {
     "name": "stdin",
     "output_type": "stream",
     "text": [
      "What shape? C\n",
      "Enter the length of the radius:  2\n"
     ]
    },
    {
     "name": "stdout",
     "output_type": "stream",
     "text": [
      "Area=12.57. Perimeter=12.57\n"
     ]
    },
    {
     "name": "stdin",
     "output_type": "stream",
     "text": [
      "What shape? TRAP\n",
      "Enter the length of side a:  2\n",
      "Enter the lenght of side b:  3\n",
      "Enter the length of the heigth:  4\n"
     ]
    },
    {
     "name": "stdout",
     "output_type": "stream",
     "text": [
      "Area=10.00. Perimeter=13.06\n"
     ]
    },
    {
     "name": "stdin",
     "output_type": "stream",
     "text": [
      "What shape? Q\n"
     ]
    },
    {
     "name": "stdout",
     "output_type": "stream",
     "text": [
      "Done!\n"
     ]
    }
   ],
   "source": [
    "while True:\n",
    "    shape = input('What shape?')\n",
    "    if shape == 'S':\n",
    "        length = float(input('Enter the length of a side: '))\n",
    "        area, perimeter = squaremath(length)\n",
    "        print(f'Area={area:.2f}. Perimeter={perimeter:.2f}')\n",
    "    elif shape == 'TRI':\n",
    "        base = float(input('Enter the length of the base: '))\n",
    "        height = float(input('Enter the length of the height: '))\n",
    "        area, perimeter = trianglemath(base, height)\n",
    "        print(f'Area={area:.2f}. Perimeter={perimeter:.2f}')\n",
    "    elif shape =='C':\n",
    "        radius = float(input('Enter the length of the radius: '))\n",
    "        area, perimeter = circlemath(radius)\n",
    "        print(f'Area={area:.2f}. Perimeter={perimeter:.2f}')\n",
    "    elif shape =='R':\n",
    "        base = float(input('Enter the length of the base: '))\n",
    "        height = float(input('Enter the length of the height: '))\n",
    "        area, perimeter = rectanglemath(base, height)\n",
    "        print(f'Area={area:.2f}. Perimeter={perimeter:.2f}')\n",
    "    elif shape =='E':\n",
    "        a = float(input('Enter the length of radius 1: '))\n",
    "        b = float(input('Enter the length of radius 2: '))\n",
    "        area, perimeter = ellipsemath(a, b)\n",
    "        print(f'Area={area:.2f}. Perimeter={perimeter:.2f}')\n",
    "    elif shape =='TRAP':\n",
    "        a = float(input('Enter the length of side a: '))\n",
    "        b = float(input('Enter the lenght of side b: '))\n",
    "        height = float(input('Enter the length of the heigth: '))\n",
    "        area, perimeter = trapezoidmath(a,b,height)\n",
    "        print(f'Area={area:.2f}. Perimeter={perimeter:.2f}')\n",
    "    elif shape =='Q':\n",
    "        print('Done!')\n",
    "        break\n",
    "    else:\n",
    "        print('That is not a valid option.')\n",
    "        print(f'Area={area:.2f}. Perimeter={perimeter:.2f}')"
   ]
  },
  {
   "cell_type": "markdown",
   "id": "442d2e0d-2475-4244-a395-c0d2d2d5681f",
   "metadata": {},
   "source": [
    "### Problem 2- Horse Computations"
   ]
  },
  {
   "cell_type": "code",
   "execution_count": 89,
   "id": "f302c264-73ad-492c-b823-1d4abbce12cc",
   "metadata": {
    "tags": []
   },
   "outputs": [],
   "source": [
    "def convert_hands(hands):\n",
    "    feet = float(hands) * 4 / 12\n",
    "    return feet\n",
    "def convert_length(length):\n",
    "    feet = int(length) * 8\n",
    "    return feet"
   ]
  },
  {
   "cell_type": "code",
   "execution_count": 90,
   "id": "25e2fe71-3443-4f08-a4cd-49fd774cb42d",
   "metadata": {
    "tags": []
   },
   "outputs": [
    {
     "name": "stdin",
     "output_type": "stream",
     "text": [
      "Enter unit:  h\n"
     ]
    },
    {
     "name": "stdout",
     "output_type": "stream",
     "text": [
      "That is not a valid option.\n"
     ]
    },
    {
     "name": "stdin",
     "output_type": "stream",
     "text": [
      "Enter unit:  H\n",
      "Enter number of hands:  4\n"
     ]
    },
    {
     "name": "stdout",
     "output_type": "stream",
     "text": [
      "Equals 1.33 feet.\n"
     ]
    },
    {
     "name": "stdin",
     "output_type": "stream",
     "text": [
      "Enter unit:  Q\n"
     ]
    },
    {
     "name": "stdout",
     "output_type": "stream",
     "text": [
      "Done!\n"
     ]
    }
   ],
   "source": [
    "while True:\n",
    "    unit = input('Enter unit: ')\n",
    "    if unit == 'H':\n",
    "        hands = input('Enter number of hands: ')\n",
    "        feet = convert_hands(hands)\n",
    "        print(f'Equals {feet:.2f} feet.')\n",
    "    elif unit == 'L':\n",
    "        length = input('Enter the length of the horse: ')\n",
    "        feet = convert_length(length)\n",
    "        print(f'Equals {feet:.2f} feet.')\n",
    "    elif unit == 'Q':\n",
    "        print('Done!')\n",
    "        break\n",
    "    else:\n",
    "        print('That is not a valid option.')\n",
    "    "
   ]
  },
  {
   "cell_type": "markdown",
   "id": "5ef32c57-b219-4283-b651-6d6d1135877a",
   "metadata": {
    "tags": []
   },
   "source": [
    "### Problem 3- Mean Temperature"
   ]
  },
  {
   "cell_type": "code",
   "execution_count": 9,
   "id": "da442dbb-e824-48a4-a188-38bf483175a7",
   "metadata": {
    "tags": []
   },
   "outputs": [],
   "source": [
    "def meanTemp(temperatures):\n",
    "    for x in temperatures:\n",
    "        mean = s.mean(temperatures)\n",
    "        return mean   "
   ]
  },
  {
   "cell_type": "code",
   "execution_count": 24,
   "id": "069fc16f-7acb-4ae2-bcea-2a8e77bb44ee",
   "metadata": {
    "tags": []
   },
   "outputs": [],
   "source": [
    "#first is a list to put temperatures in, second finds days from length of temperatures.\n",
    "templist =[70, 73, 67, 71, 78]\n",
    "days = len(templist)"
   ]
  },
  {
   "cell_type": "code",
   "execution_count": 25,
   "id": "43b57d8d-489b-4c82-b3c4-9bb25e80fa7e",
   "metadata": {
    "tags": []
   },
   "outputs": [
    {
     "name": "stdout",
     "output_type": "stream",
     "text": [
      "The mean temperature for the past 5 days is 71.80°F\n"
     ]
    }
   ],
   "source": [
    "print(f'The mean temperature for the past {days} days is {meanTemp(templist):.2f}\\u00b0F')"
   ]
  }
 ],
 "metadata": {
  "kernelspec": {
   "display_name": "Python 3 (ipykernel)",
   "language": "python",
   "name": "python3"
  },
  "language_info": {
   "codemirror_mode": {
    "name": "ipython",
    "version": 3
   },
   "file_extension": ".py",
   "mimetype": "text/x-python",
   "name": "python",
   "nbconvert_exporter": "python",
   "pygments_lexer": "ipython3",
   "version": "3.11.5"
  }
 },
 "nbformat": 4,
 "nbformat_minor": 5
}
